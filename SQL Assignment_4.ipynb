{
 "cells": [
  {
   "cell_type": "code",
   "execution_count": null,
   "id": "ec0cb823",
   "metadata": {},
   "outputs": [],
   "source": [
    "Q-1. Write an SQL query to print the FIRST_NAME from Worker table after replacing ‘a’\n",
    "with ‘A’.\n",
    "Ans:Select REPLACE(FIRST_NAME,'a','A') from Worker; "
   ]
  },
  {
   "cell_type": "code",
   "execution_count": null,
   "id": "685435d7",
   "metadata": {},
   "outputs": [],
   "source": [
    "Q-2. Write an SQL query to print all Worker details from the Worker table order by\n",
    "FIRST_NAME Ascending and DEPARTMENT Descending.\n",
    "Ans:SELECT *\n",
    "    FROM employees e\n",
    "    ORDER BY e.job_name ASC,\n",
    "             e.department DESC "
   ]
  },
  {
   "cell_type": "code",
   "execution_count": null,
   "id": "732af654",
   "metadata": {},
   "outputs": [],
   "source": [
    "Q-3. Write an SQL query to fetch the names of workers who earn the highest salary.\n",
    "Ans:SELECT FIRST_NAME, SALARY from Worker WHERE SALARY=(SELECT max(SALARY) from Worker);"
   ]
  }
 ],
 "metadata": {
  "kernelspec": {
   "display_name": "Python 3 (ipykernel)",
   "language": "python",
   "name": "python3"
  },
  "language_info": {
   "codemirror_mode": {
    "name": "ipython",
    "version": 3
   },
   "file_extension": ".py",
   "mimetype": "text/x-python",
   "name": "python",
   "nbconvert_exporter": "python",
   "pygments_lexer": "ipython3",
   "version": "3.9.7"
  }
 },
 "nbformat": 4,
 "nbformat_minor": 5
}
