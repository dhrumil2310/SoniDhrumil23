{
 "cells": [
  {
   "cell_type": "code",
   "execution_count": null,
   "id": "3beac2a0",
   "metadata": {},
   "outputs": [],
   "source": [
    "Q-15. Write an SQL query to fetch intersecting records of two tables.\n",
    "Ans; SELECT * from table 1\n",
    "     INTERSECT\n",
    "     SELECT * from table 2"
   ]
  },
  {
   "cell_type": "code",
   "execution_count": null,
   "id": "7c62076d",
   "metadata": {},
   "outputs": [],
   "source": [
    "Q-16. Write an SQL query to show records from one table that another table does not have.\n",
    "Ans: SELECT <select_list>\n",
    "     FROM TableA A\n",
    "     LEFT JOIN TableB B\n",
    "     ON A.Key=B.Key\n",
    "     WHERE B.Key IS NULL"
   ]
  }
 ],
 "metadata": {
  "kernelspec": {
   "display_name": "Python 3 (ipykernel)",
   "language": "python",
   "name": "python3"
  },
  "language_info": {
   "codemirror_mode": {
    "name": "ipython",
    "version": 3
   },
   "file_extension": ".py",
   "mimetype": "text/x-python",
   "name": "python",
   "nbconvert_exporter": "python",
   "pygments_lexer": "ipython3",
   "version": "3.9.7"
  }
 },
 "nbformat": 4,
 "nbformat_minor": 5
}
