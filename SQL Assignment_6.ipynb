{
 "cells": [
  {
   "cell_type": "code",
   "execution_count": null,
   "id": "7f63c960",
   "metadata": {},
   "outputs": [],
   "source": [
    "Q-1. Write an SQL query to print details of the Workers who have joined in Feb’2014.\n",
    "   ans: Select * from Worker where year(JOINING_DATE) = 2014 and month(JOINING_DATE) = 2;"
   ]
  },
  {
   "cell_type": "code",
   "execution_count": null,
   "id": "ded962ba",
   "metadata": {},
   "outputs": [],
   "source": [
    "Q-2. Write an SQL query to fetch duplicate records having matching data in some fields of a table.\n",
    "   ans: SELECT OrderID, ProductID, COUNT(*)\n",
    "        FROM OrderDetails\n",
    "        GROUP BY OrderID, ProductID\n",
    "        HAVING COUNT(*) > 1"
   ]
  },
  {
   "cell_type": "code",
   "execution_count": null,
   "id": "3945a5ab",
   "metadata": {},
   "outputs": [],
   "source": [
    "Q-3. How to remove duplicate rows from Employees table.\n",
    "   ans: select col_1,col_2,col_3,count(*) as cnt from table_name group by col_1,col_2,col_3  having count(*) > 1;"
   ]
  }
 ],
 "metadata": {
  "kernelspec": {
   "display_name": "Python 3 (ipykernel)",
   "language": "python",
   "name": "python3"
  },
  "language_info": {
   "codemirror_mode": {
    "name": "ipython",
    "version": 3
   },
   "file_extension": ".py",
   "mimetype": "text/x-python",
   "name": "python",
   "nbconvert_exporter": "python",
   "pygments_lexer": "ipython3",
   "version": "3.9.7"
  }
 },
 "nbformat": 4,
 "nbformat_minor": 5
}
