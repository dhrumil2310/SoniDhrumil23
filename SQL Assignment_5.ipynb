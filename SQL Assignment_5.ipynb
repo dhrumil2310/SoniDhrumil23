{
 "cells": [
  {
   "cell_type": "code",
   "execution_count": null,
   "id": "c6b08736",
   "metadata": {},
   "outputs": [],
   "source": [
    "Q-1. Write an SQL query to print details of workers excluding first names, “Vipul” and\n",
    "“Satish” from Worker table.\n",
    "Ans: Select * from Worker where FIRST_NAME not in ('Vipul','Satish'); "
   ]
  },
  {
   "cell_type": "code",
   "execution_count": null,
   "id": "9c3fb065",
   "metadata": {},
   "outputs": [],
   "source": [
    "Q-2. Write an SQL query to print details of the Workers whose FIRST_NAME ends with\n",
    "‘h’ and contains six alphabets.\n",
    "Ans:Select * from Worker where FIRST_NAME like '_____h'; "
   ]
  },
  {
   "cell_type": "code",
   "execution_count": null,
   "id": "ce46f8c4",
   "metadata": {},
   "outputs": [],
   "source": [
    "Q-3. Write a query to validate Email of Employee.\n",
    "Ans:SELECT * FROM table_name WHERE attribute LIKE 'pattern';"
   ]
  }
 ],
 "metadata": {
  "kernelspec": {
   "display_name": "Python 3 (ipykernel)",
   "language": "python",
   "name": "python3"
  },
  "language_info": {
   "codemirror_mode": {
    "name": "ipython",
    "version": 3
   },
   "file_extension": ".py",
   "mimetype": "text/x-python",
   "name": "python",
   "nbconvert_exporter": "python",
   "pygments_lexer": "ipython3",
   "version": "3.9.7"
  }
 },
 "nbformat": 4,
 "nbformat_minor": 5
}
