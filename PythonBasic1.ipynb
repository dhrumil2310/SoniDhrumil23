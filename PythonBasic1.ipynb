{
 "cells": [
  {
   "cell_type": "code",
   "execution_count": null,
   "id": "e4e0c340",
   "metadata": {},
   "outputs": [],
   "source": [
    "1. In the below elements which of them are values or an expression? eg:- values can be\n",
    "integer or string and expressions will be mathematical operators.\n",
    "*\n",
    "&#39;hello&#39;\n",
    "-87.8\n",
    "-\n",
    "/\n",
    "+\n",
    "6\n",
    "Ans: Values: hello,39,87.8,6\n",
    "     expressions: *,&,#,-,/,+\n",
    "        "
   ]
  },
  {
   "cell_type": "code",
   "execution_count": null,
   "id": "10087772",
   "metadata": {},
   "outputs": [],
   "source": [
    "2. What is the difference between string and variable?\n",
    "Ans: Variable store the information and string is the type of information\n",
    "    Eg. a=\"hello\" \n",
    "       here \"hello\" is string and a is the variable. \n",
    "       string is enclosed with the \"\"."
   ]
  },
  {
   "cell_type": "code",
   "execution_count": null,
   "id": "f3b82d9d",
   "metadata": {},
   "outputs": [],
   "source": [
    "3. Describe three different data types.\n",
    "Ans: 1) integer datatype: int() , in integer datatype only integer numbers are include. Eg.1,45,3,23 \n",
    "     2) float datatype  : float() , in float datype the floating point numbers are used.Eg. 5.6,3.4,3.3 \n",
    "     3) complex datatype: complex() , in complex datatype complex number like 5+6j are used."
   ]
  },
  {
   "cell_type": "code",
   "execution_count": null,
   "id": "ebe3b643",
   "metadata": {},
   "outputs": [],
   "source": [
    "4. What is an expression made up of? What do all expressions do?\n",
    "Ans: An expression is made up of variables, operators, and method invocations, which are constructed according to\n",
    "    the syntax of the language, that evaluates to a single value.Expressions are representations of value."
   ]
  },
  {
   "cell_type": "code",
   "execution_count": null,
   "id": "f9a60d3f",
   "metadata": {},
   "outputs": [],
   "source": [
    "5. This assignment statements, like spam = 10. What is the difference between an\n",
    "expression and a statement?\n",
    "Ans: Expression is made up of values, containers, and mathematical operators (operands) and the statement is just like a \n",
    "    command that a python interpreter executes like print. "
   ]
  },
  {
   "cell_type": "code",
   "execution_count": null,
   "id": "efdce2a5",
   "metadata": {},
   "outputs": [],
   "source": [
    "6. After running the following code, what does the variable bacon contain?\n",
    "bacon = 22\n",
    "bacon + 1\n",
    "Ans: 22"
   ]
  },
  {
   "cell_type": "code",
   "execution_count": null,
   "id": "b24294a9",
   "metadata": {},
   "outputs": [],
   "source": [
    "7. What should the values of the following two terms be?\n",
    "   'spam' + 'spamspam'\n",
    "   'spam' * 3    \n",
    "Ans: 1) spamspamspam\n",
    "     2) spamspamspam"
   ]
  },
  {
   "cell_type": "code",
   "execution_count": null,
   "id": "32fd710b",
   "metadata": {
    "collapsed": true
   },
   "outputs": [],
   "source": [
    "8. Why is eggs a valid variable name while 100 is invalid?\n",
    "Ans: Because variable names cannot begin with a number."
   ]
  },
  {
   "cell_type": "code",
   "execution_count": null,
   "id": "dc92d72c",
   "metadata": {},
   "outputs": [],
   "source": [
    "9. What three functions can be used to get the integer, floating-point number, or string\n",
    "version of a value?\n",
    "Ans: The int() , float() , and str( ) functions will used to get the integer, floating-point number, and string versions of \n",
    "    the value passed to them."
   ]
  },
  {
   "cell_type": "code",
   "execution_count": null,
   "id": "e2bf8485",
   "metadata": {},
   "outputs": [],
   "source": [
    "10. Why does this expression cause an error? How can you fix it?\n",
    "'I have eaten' + 99 + 'burritos'.\n",
    "Ans: Because 99 is integer and rest of two are strings, we have to convert integer to string for addition.\n",
    "     Eg. 'I have eaten'+ '99' +'burritos'."
   ]
  }
 ],
 "metadata": {
  "kernelspec": {
   "display_name": "Python 3 (ipykernel)",
   "language": "python",
   "name": "python3"
  },
  "language_info": {
   "codemirror_mode": {
    "name": "ipython",
    "version": 3
   },
   "file_extension": ".py",
   "mimetype": "text/x-python",
   "name": "python",
   "nbconvert_exporter": "python",
   "pygments_lexer": "ipython3",
   "version": "3.9.7"
  }
 },
 "nbformat": 4,
 "nbformat_minor": 5
}
