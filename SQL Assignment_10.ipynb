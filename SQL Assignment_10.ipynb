{
 "cells": [
  {
   "cell_type": "code",
   "execution_count": null,
   "id": "9a1871c3",
   "metadata": {},
   "outputs": [],
   "source": [
    "Q-19. Write an SQL query to determine the 5th highest salary without using TOP or limit\n",
    "method.\n",
    "Ans:SELECT * FROM (\n",
    "    SELECT ROW_NUMBER() OVER (ORDER BY SALARY DESC) AS rownumber,Salary.\n",
    "    FROM Employee )\n",
    "    AS foo.\n",
    "    WHERE rownumber = 5."
   ]
  },
  {
   "cell_type": "code",
   "execution_count": null,
   "id": "74269ea3",
   "metadata": {},
   "outputs": [],
   "source": [
    "Q-20. Write an SQL query to fetch the list of employees with the same salary.\n",
    "Ans:SELECT *\n",
    "    FROM employees\n",
    "    WHERE salary IN\n",
    "    (SELECT salary\n",
    "    FROM employees e\n",
    "    WHERE employees.emp_id <> e.emp_id);"
   ]
  }
 ],
 "metadata": {
  "kernelspec": {
   "display_name": "Python 3 (ipykernel)",
   "language": "python",
   "name": "python3"
  },
  "language_info": {
   "codemirror_mode": {
    "name": "ipython",
    "version": 3
   },
   "file_extension": ".py",
   "mimetype": "text/x-python",
   "name": "python",
   "nbconvert_exporter": "python",
   "pygments_lexer": "ipython3",
   "version": "3.9.7"
  }
 },
 "nbformat": 4,
 "nbformat_minor": 5
}
