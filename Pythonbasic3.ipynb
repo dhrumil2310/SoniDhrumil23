{
 "cells": [
  {
   "cell_type": "code",
   "execution_count": null,
   "id": "de0e6c75",
   "metadata": {},
   "outputs": [],
   "source": [
    "1. Why are functions advantageous to have in your programs?\n",
    "Ans: Functions enable reuse of code, improve maintainability and scalability. \n",
    "     we can avoid rewriting same logic/code again and again in a program."
   ]
  },
  {
   "cell_type": "code",
   "execution_count": null,
   "id": "c092411d",
   "metadata": {},
   "outputs": [],
   "source": [
    "2. When does the code in a function run: when it's specified or when it's called?\n",
    "Ans: The code in a function executes when the function is called, not when the function is defined."
   ]
  },
  {
   "cell_type": "code",
   "execution_count": null,
   "id": "40a2612f",
   "metadata": {},
   "outputs": [],
   "source": [
    "3. What statement creates a function?\n",
    "Ans:  A function is created with the \"def\" keyword."
   ]
  },
  {
   "cell_type": "code",
   "execution_count": null,
   "id": "eabd2831",
   "metadata": {},
   "outputs": [],
   "source": [
    "4. What is the difference between a function and a function call?\n",
    "Ans: A function is a block of code that does a particular operation and returns a result. \n",
    "     It usually accepts inputs as parameters and returns a result. \n",
    "     A function call is the code used to pass control to a function."
   ]
  },
  {
   "cell_type": "code",
   "execution_count": null,
   "id": "8156c472",
   "metadata": {},
   "outputs": [],
   "source": [
    "5. How many global scopes are there in a Python program? How many local scopes?\n",
    "Ans: There's only one global Python scope per program execution. \n",
    "     There is three local scopes  local (L),  global (G),  built-in (B)"
   ]
  },
  {
   "cell_type": "code",
   "execution_count": null,
   "id": "3e95125e",
   "metadata": {},
   "outputs": [],
   "source": [
    "6. What happens to variables in a local scope when the function call returns?\n",
    "Ans: When the execution of the function terminates (returns), the local variables are destroyed."
   ]
  },
  {
   "cell_type": "code",
   "execution_count": null,
   "id": "54690938",
   "metadata": {},
   "outputs": [],
   "source": [
    "7. What is the concept of a return value? Is it possible to have a return value in an expression?\n",
    "Ans:A return statement is used to end the execution of the function call and “returns” the result to the caller. \n",
    "   The statements after the return statements are not executed. \n",
    "   If the return statement is without any expression, then the special value None is returned."
   ]
  },
  {
   "cell_type": "code",
   "execution_count": null,
   "id": "5ee9bdfe",
   "metadata": {},
   "outputs": [],
   "source": [
    "8. If a function does not have a return statement, what is the return value of a call to that function?\n",
    "Ans: Python will implicitly return a default value for you. That default return value will always be None"
   ]
  },
  {
   "cell_type": "code",
   "execution_count": null,
   "id": "916dc2cc",
   "metadata": {},
   "outputs": [],
   "source": [
    "9. How do you make a function variable refer to the global variable?\n",
    "Ans: If you want to refer to a global variable in a function, \n",
    "    you can use the global keyword to declare which variables are global."
   ]
  },
  {
   "cell_type": "code",
   "execution_count": 1,
   "id": "b62dde09",
   "metadata": {},
   "outputs": [],
   "source": [
    "10. What is the data type of None?\n",
    "Ans: None is a data type of its own."
   ]
  },
  {
   "cell_type": "code",
   "execution_count": null,
   "id": "efdb7f0c",
   "metadata": {},
   "outputs": [],
   "source": [
    "11. What does the sentence import areallyourpetsnamederic do?\n",
    "Ans:That import statement imports a module named areallyourpetsnamederic."
   ]
  },
  {
   "cell_type": "code",
   "execution_count": null,
   "id": "3d4be49c",
   "metadata": {},
   "outputs": [],
   "source": [
    "12. If you had a bacon() feature in a spam module, what would you call it after importing spam?\n",
    "Ans: spam. bacon()."
   ]
  },
  {
   "cell_type": "code",
   "execution_count": null,
   "id": "f1cd9433",
   "metadata": {},
   "outputs": [],
   "source": [
    "13. What can you do to save a programme from crashing if it encounters an error?\n",
    "Ans: Try running the program and it should throw an error message instead of crashing the program."
   ]
  },
  {
   "cell_type": "code",
   "execution_count": null,
   "id": "3362a8b3",
   "metadata": {},
   "outputs": [],
   "source": [
    "14. What is the purpose of the try clause? What is the purpose of the except clause?\n",
    "Ans:The try block lets you test a block of code for errors. The except block lets you handle the error. "
   ]
  }
 ],
 "metadata": {
  "kernelspec": {
   "display_name": "Python 3 (ipykernel)",
   "language": "python",
   "name": "python3"
  },
  "language_info": {
   "codemirror_mode": {
    "name": "ipython",
    "version": 3
   },
   "file_extension": ".py",
   "mimetype": "text/x-python",
   "name": "python",
   "nbconvert_exporter": "python",
   "pygments_lexer": "ipython3",
   "version": "3.9.7"
  }
 },
 "nbformat": 4,
 "nbformat_minor": 5
}
