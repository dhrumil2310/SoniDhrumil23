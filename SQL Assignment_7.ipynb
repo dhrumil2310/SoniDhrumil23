{
 "cells": [
  {
   "cell_type": "code",
   "execution_count": null,
   "id": "440ab876",
   "metadata": {},
   "outputs": [],
   "source": [
    "Q-13. Write an SQL query to show only odd rows from a table.\n",
    "   ans: SELECT * FROM table_name WHERE mod(column_name,2) = 0;"
   ]
  },
  {
   "cell_type": "code",
   "execution_count": null,
   "id": "89cba141",
   "metadata": {},
   "outputs": [],
   "source": [
    "Q-14. Write an SQL query to clone a new table from another table.\n",
    "   ans: CREATE TABLE new_table LIKE original_table;\n",
    "        INSERT INTO new_table SELECT * FROM original_table;"
   ]
  }
 ],
 "metadata": {
  "kernelspec": {
   "display_name": "Python 3 (ipykernel)",
   "language": "python",
   "name": "python3"
  },
  "language_info": {
   "codemirror_mode": {
    "name": "ipython",
    "version": 3
   },
   "file_extension": ".py",
   "mimetype": "text/x-python",
   "name": "python",
   "nbconvert_exporter": "python",
   "pygments_lexer": "ipython3",
   "version": "3.9.7"
  }
 },
 "nbformat": 4,
 "nbformat_minor": 5
}
