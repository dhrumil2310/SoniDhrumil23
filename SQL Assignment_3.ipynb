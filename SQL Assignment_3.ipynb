{
 "cells": [
  {
   "cell_type": "raw",
   "id": "f91b4294",
   "metadata": {},
   "source": [
    "Q-1. Write an SQL query to print the FIRST_NAME from Worker table after removing\n",
    "white spaces from the right side.\n",
    "Ans: Select RTRIM(FIRST_NAME) from Worker"
   ]
  },
  {
   "cell_type": "code",
   "execution_count": null,
   "id": "1f53ec88",
   "metadata": {},
   "outputs": [],
   "source": [
    "Q-2. Write an SQL query that fetches the unique values of DEPARTMENT from Worker\n",
    "table and prints its length.\n",
    "Ans:select length(distinct(department)) from worker;"
   ]
  },
  {
   "cell_type": "code",
   "execution_count": null,
   "id": "1a70eb7c",
   "metadata": {},
   "outputs": [],
   "source": [
    "Q-3. Write an SQL query to fetch nth max salaries from a table.\n",
    "Ans:select * from( select ename, sal, dense_rank() over(order by sal desc)r from Employee) where r=&n"
   ]
  }
 ],
 "metadata": {
  "kernelspec": {
   "display_name": "Python 3 (ipykernel)",
   "language": "python",
   "name": "python3"
  },
  "language_info": {
   "codemirror_mode": {
    "name": "ipython",
    "version": 3
   },
   "file_extension": ".py",
   "mimetype": "text/x-python",
   "name": "python",
   "nbconvert_exporter": "python",
   "pygments_lexer": "ipython3",
   "version": "3.9.7"
  }
 },
 "nbformat": 4,
 "nbformat_minor": 5
}
