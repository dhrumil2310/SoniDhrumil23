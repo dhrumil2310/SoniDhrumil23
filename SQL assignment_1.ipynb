{
 "cells": [
  {
   "cell_type": "code",
   "execution_count": null,
   "id": "1f064b72",
   "metadata": {},
   "outputs": [],
   "source": [
    "Q-1. Write an SQL query to fetch “FIRST_NAME” from Worker table using the alias\n",
    "name as &lt;WORKER_NAME&gt;.\n",
    "Ans:SELECT FIRST_NAME AS WORKER_NAME FROM Worker; "
   ]
  },
  {
   "cell_type": "code",
   "execution_count": null,
   "id": "c58d2500",
   "metadata": {},
   "outputs": [],
   "source": [
    "Q-2. Write an SQL query to fetch unique values of DEPARTMENT from Worker table.\n",
    "Ans: SELECT DISTINCT department_id FROM employees; "
   ]
  },
  {
   "cell_type": "code",
   "execution_count": null,
   "id": "d9aaf82e",
   "metadata": {},
   "outputs": [],
   "source": [
    "Q-3. Write an SQL query to show the last 5 record from a table.\n",
    "Ans: (SELECT * FROM Employee ORDER BY ID DESC LIMIT 5)\n",
    "ORDER BY ID ASC;"
   ]
  }
 ],
 "metadata": {
  "kernelspec": {
   "display_name": "Python 3 (ipykernel)",
   "language": "python",
   "name": "python3"
  },
  "language_info": {
   "codemirror_mode": {
    "name": "ipython",
    "version": 3
   },
   "file_extension": ".py",
   "mimetype": "text/x-python",
   "name": "python",
   "nbconvert_exporter": "python",
   "pygments_lexer": "ipython3",
   "version": "3.9.7"
  }
 },
 "nbformat": 4,
 "nbformat_minor": 5
}
