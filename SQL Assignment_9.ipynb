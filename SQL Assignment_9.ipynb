{
 "cells": [
  {
   "cell_type": "code",
   "execution_count": null,
   "id": "c11828e0",
   "metadata": {},
   "outputs": [],
   "source": [
    "Q-17. Write an SQL query to show the top n (say 10) records of a table.\n",
    "Ans: SELECT * FROM Worker ORDER BY Salary DESC LIMIT 10; "
   ]
  },
  {
   "cell_type": "code",
   "execution_count": null,
   "id": "76815170",
   "metadata": {},
   "outputs": [],
   "source": [
    "Q-18. Write an SQL query to determine the nth (say n=5) highest salary from a table.\n",
    "Ans:SELECT TOP 5 salary FROM (SELECT TOP N salary  FROM emps ORDER BY salary DESC) ORDER BY salary ASC;"
   ]
  }
 ],
 "metadata": {
  "kernelspec": {
   "display_name": "Python 3 (ipykernel)",
   "language": "python",
   "name": "python3"
  },
  "language_info": {
   "codemirror_mode": {
    "name": "ipython",
    "version": 3
   },
   "file_extension": ".py",
   "mimetype": "text/x-python",
   "name": "python",
   "nbconvert_exporter": "python",
   "pygments_lexer": "ipython3",
   "version": "3.9.7"
  }
 },
 "nbformat": 4,
 "nbformat_minor": 5
}
